{
 "cells": [
  {
   "cell_type": "markdown",
   "id": "ae605c5a",
   "metadata": {},
   "source": [
    "1. In the below elements which of them are values or an expression? eg:- values can be integer or string and expressions will be mathematical operators."
   ]
  },
  {
   "cell_type": "raw",
   "id": "ea7beba1",
   "metadata": {},
   "source": [
    "*  ---- Operator\n",
    "'hello'--- string\n",
    "-87.8 ---- Value\n",
    "-  --- Operator\n",
    "/  --- Operator\n",
    "+  --- Operator\n",
    "6  --- Value"
   ]
  },
  {
   "cell_type": "markdown",
   "id": "c9c8cb66",
   "metadata": {},
   "source": [
    "2. What is the difference between string and variable?"
   ]
  },
  {
   "cell_type": "raw",
   "id": "694d9b26",
   "metadata": {},
   "source": [
    "String is a data type consist of characters inclosed in quates. it may be consist of Alphabets, number etc.\n",
    "e.g.-- \"Apple\", \"9876543021\"\n",
    "Variable is the name given to a memory location in any program.\n",
    "e.g.-- a = 10\n",
    "    first_name = \"Kumar\""
   ]
  },
  {
   "cell_type": "markdown",
   "id": "3e47fdd6",
   "metadata": {},
   "source": [
    "3. Describe three different data types."
   ]
  },
  {
   "cell_type": "raw",
   "id": "3cc1028f",
   "metadata": {},
   "source": [
    " The three different data types are :\n",
    " 1. int -- It takes integer types of data.\n",
    " 2. Float -- It takes decimal type of character\n",
    " 3. complex -- It takes complex number like 1+2j, 6j etc."
   ]
  },
  {
   "cell_type": "markdown",
   "id": "a198dfa3",
   "metadata": {},
   "source": [
    "4. What is an expression made up of? What do all expressions do?"
   ]
  },
  {
   "cell_type": "raw",
   "id": "16240413",
   "metadata": {},
   "source": [
    "An expression is a combination of values, variables, operators, and calls to function. expressions need to br evaluated."
   ]
  },
  {
   "cell_type": "markdown",
   "id": "a6825c12",
   "metadata": {},
   "source": [
    "5. This assignment statements, like spam = 10. What is the difference between an expression and a statement?"
   ]
  },
  {
   "cell_type": "raw",
   "id": "9649e6ab",
   "metadata": {},
   "source": [
    "A statement is an instruction that the Python interpreter can execute.some the statement are like assigning a value, if else statement, for statement, while statement etc.\n",
    "An expression is a combination of values, variables, operators, and calls to function. expressions need to br evaluated."
   ]
  },
  {
   "cell_type": "markdown",
   "id": "77febd2b",
   "metadata": {},
   "source": [
    "6. After running the following code, what does the variable bacon contain?\n",
    "bacon = 22\n",
    "bacon + 1"
   ]
  },
  {
   "cell_type": "raw",
   "id": "bfb51618",
   "metadata": {},
   "source": [
    "The output of the following code is 23 but even after running the following code the variable bacon contain 22. "
   ]
  },
  {
   "cell_type": "markdown",
   "id": "3121336f",
   "metadata": {},
   "source": [
    " 7. What should the values of the following two terms be?"
   ]
  },
  {
   "cell_type": "code",
   "execution_count": 3,
   "id": "e95f4e84",
   "metadata": {},
   "outputs": [
    {
     "data": {
      "text/plain": [
       "'spamspamspam'"
      ]
     },
     "execution_count": 3,
     "metadata": {},
     "output_type": "execute_result"
    }
   ],
   "source": [
    "'spam' + 'spamspam'"
   ]
  },
  {
   "cell_type": "code",
   "execution_count": 4,
   "id": "9a82c8ce",
   "metadata": {},
   "outputs": [
    {
     "data": {
      "text/plain": [
       "'spamspamspam'"
      ]
     },
     "execution_count": 4,
     "metadata": {},
     "output_type": "execute_result"
    }
   ],
   "source": [
    "'spam' * 3"
   ]
  },
  {
   "cell_type": "markdown",
   "id": "96b132f4",
   "metadata": {},
   "source": [
    "8. Why is eggs a valid variable name while 100 is invalid?"
   ]
  },
  {
   "cell_type": "raw",
   "id": "3b84d33d",
   "metadata": {},
   "source": [
    "Eggs is a valid variable name while 100 is invalid because variable name can not be started with any number."
   ]
  },
  {
   "cell_type": "markdown",
   "id": "48dc30ee",
   "metadata": {},
   "source": [
    "9. What three functions can be used to get the integer, floating-point number, or string version of a value?"
   ]
  },
  {
   "cell_type": "raw",
   "id": "017d5fc4",
   "metadata": {},
   "source": [
    "integer -- int()\n",
    "floating-point number -- float()\n",
    "sting -- str()"
   ]
  },
  {
   "cell_type": "markdown",
   "id": "a6ed0743",
   "metadata": {},
   "source": [
    "10. Why does this expression cause an error? How can you fix it?\n",
    "'I have eaten ' + 99 + ' burritos.'"
   ]
  },
  {
   "cell_type": "raw",
   "id": "68baf270",
   "metadata": {},
   "source": [
    "Two different data types can not be concatenated. 99 is integer data type. hence, it should be converted into string data type."
   ]
  },
  {
   "cell_type": "code",
   "execution_count": 6,
   "id": "36ebab73",
   "metadata": {},
   "outputs": [
    {
     "data": {
      "text/plain": [
       "'I have eaten 99 burritos.'"
      ]
     },
     "execution_count": 6,
     "metadata": {},
     "output_type": "execute_result"
    }
   ],
   "source": [
    "'I have eaten ' + str(99) + ' burritos.'"
   ]
  },
  {
   "cell_type": "code",
   "execution_count": null,
   "id": "5ac83169",
   "metadata": {},
   "outputs": [],
   "source": []
  }
 ],
 "metadata": {
  "kernelspec": {
   "display_name": "Python 3",
   "language": "python",
   "name": "python3"
  },
  "language_info": {
   "codemirror_mode": {
    "name": "ipython",
    "version": 3
   },
   "file_extension": ".py",
   "mimetype": "text/x-python",
   "name": "python",
   "nbconvert_exporter": "python",
   "pygments_lexer": "ipython3",
   "version": "3.8.8"
  }
 },
 "nbformat": 4,
 "nbformat_minor": 5
}

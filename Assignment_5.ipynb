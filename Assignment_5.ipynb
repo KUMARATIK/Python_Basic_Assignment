{
 "cells": [
  {
   "cell_type": "markdown",
   "id": "f5f55949",
   "metadata": {},
   "source": [
    "1. What does an empty dictionary's code look like?"
   ]
  },
  {
   "cell_type": "code",
   "execution_count": 6,
   "id": "6b76033c",
   "metadata": {},
   "outputs": [],
   "source": [
    "d1 = {}\n",
    "d2 = dict()"
   ]
  },
  {
   "cell_type": "markdown",
   "id": "1c8cf3ae",
   "metadata": {},
   "source": [
    "2. What is the value of a dictionary value with the key 'foo' and the value 42?"
   ]
  },
  {
   "cell_type": "code",
   "execution_count": 7,
   "id": "24a9697e",
   "metadata": {},
   "outputs": [],
   "source": [
    "d1 = {'foo':42}"
   ]
  },
  {
   "cell_type": "markdown",
   "id": "de014f87",
   "metadata": {},
   "source": [
    "3. What is the most significant distinction between a dictionary and a list?"
   ]
  },
  {
   "cell_type": "markdown",
   "id": "d4be6fa0",
   "metadata": {},
   "source": [
    "Ans: Items in list are ordered but unordered in dictionary. list are represented as [] while dictionary as {}"
   ]
  },
  {
   "cell_type": "markdown",
   "id": "e01639e5",
   "metadata": {},
   "source": [
    "4. What happens if you try to access spam['foo'] if spam is {'bar': 100}?"
   ]
  },
  {
   "cell_type": "code",
   "execution_count": 8,
   "id": "facd5dbd",
   "metadata": {},
   "outputs": [],
   "source": [
    "spam = {'bar': 100}"
   ]
  },
  {
   "cell_type": "code",
   "execution_count": 9,
   "id": "df25c213",
   "metadata": {},
   "outputs": [
    {
     "ename": "KeyError",
     "evalue": "'foo'",
     "output_type": "error",
     "traceback": [
      "\u001b[1;31m---------------------------------------------------------------------------\u001b[0m",
      "\u001b[1;31mKeyError\u001b[0m                                  Traceback (most recent call last)",
      "\u001b[1;32m<ipython-input-9-9b5a94d1de8d>\u001b[0m in \u001b[0;36m<module>\u001b[1;34m\u001b[0m\n\u001b[1;32m----> 1\u001b[1;33m \u001b[0mspam\u001b[0m\u001b[1;33m[\u001b[0m\u001b[1;34m'foo'\u001b[0m\u001b[1;33m]\u001b[0m\u001b[1;33m\u001b[0m\u001b[1;33m\u001b[0m\u001b[0m\n\u001b[0m",
      "\u001b[1;31mKeyError\u001b[0m: 'foo'"
     ]
    }
   ],
   "source": [
    "spam['foo']\n",
    "# Ans- KeyError: 'foo'"
   ]
  },
  {
   "cell_type": "markdown",
   "id": "3451686c",
   "metadata": {},
   "source": [
    "5. If a dictionary is stored in spam, what is the difference between the expressions 'cat' in spam and 'cat' in spam.keys()?"
   ]
  },
  {
   "cell_type": "markdown",
   "id": "e754f6ab",
   "metadata": {},
   "source": [
    "Ans:- There is no difference. The in operator checks whether a value exists as a key in the dictionary."
   ]
  },
  {
   "cell_type": "markdown",
   "id": "2dac5da5",
   "metadata": {},
   "source": [
    "6. If a dictionary is stored in spam, what is the difference between the expressions 'cat' in spam and 'cat' in spam.values()?"
   ]
  },
  {
   "cell_type": "markdown",
   "id": "6788939a",
   "metadata": {},
   "source": [
    "Ans:- 'cat' in spam checks whether there is a 'cat' key in the dictionary, while 'cat' in spam. values() checks whether there is a value 'cat' for one of the keys in spam."
   ]
  },
  {
   "cell_type": "markdown",
   "id": "3eb95a66",
   "metadata": {},
   "source": [
    "7. What is a shortcut for the following code?\n",
    "if 'color' not in spam:\n",
    "spam['color'] = 'black'\n"
   ]
  },
  {
   "cell_type": "code",
   "execution_count": 10,
   "id": "dcba26d1",
   "metadata": {},
   "outputs": [
    {
     "data": {
      "text/plain": [
       "'black'"
      ]
     },
     "execution_count": 10,
     "metadata": {},
     "output_type": "execute_result"
    }
   ],
   "source": [
    "spam.setdefault('color', 'black')"
   ]
  },
  {
   "cell_type": "markdown",
   "id": "ddfdbb0c",
   "metadata": {},
   "source": [
    "8. How do you \"pretty print\" dictionary values using which module and function?"
   ]
  },
  {
   "cell_type": "markdown",
   "id": "f9fb7d68",
   "metadata": {},
   "source": [
    "pprint is a Python module that provides the capability to pretty print Python data types to be more readable. This module also supports pretty-printing dictionary. Within the pprint module there is a function with the same name pprint() , which is the function used to pretty-print the given string or object."
   ]
  }
 ],
 "metadata": {
  "kernelspec": {
   "display_name": "Python 3",
   "language": "python",
   "name": "python3"
  },
  "language_info": {
   "codemirror_mode": {
    "name": "ipython",
    "version": 3
   },
   "file_extension": ".py",
   "mimetype": "text/x-python",
   "name": "python",
   "nbconvert_exporter": "python",
   "pygments_lexer": "ipython3",
   "version": "3.8.8"
  }
 },
 "nbformat": 4,
 "nbformat_minor": 5
}

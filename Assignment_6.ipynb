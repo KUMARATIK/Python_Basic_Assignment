{
 "cells": [
  {
   "cell_type": "markdown",
   "id": "52ce9b9c",
   "metadata": {},
   "source": [
    "1. What are escape characters, and how do you use them?"
   ]
  },
  {
   "cell_type": "markdown",
   "id": "d9ceb250",
   "metadata": {},
   "source": [
    "Ans: Escape characters represent characters in string value that would otherwise be difficult or impossible to type into code. Character combinations consisting of a backslash \\ followed by a letter or by a combination of digits are called \"escape sequences\". "
   ]
  },
  {
   "cell_type": "markdown",
   "id": "83c2ae4b",
   "metadata": {},
   "source": [
    "2. What do the escape characters n and t stand for?"
   ]
  },
  {
   "cell_type": "markdown",
   "id": "e6d5f116",
   "metadata": {},
   "source": [
    "Ans: \\t is a tab and \\n is a newline"
   ]
  },
  {
   "cell_type": "markdown",
   "id": "64d3ff36",
   "metadata": {},
   "source": [
    "3. What is the way to include backslash characters in a string?"
   ]
  },
  {
   "cell_type": "markdown",
   "id": "43fb7081",
   "metadata": {},
   "source": [
    "Ans: The \\\\ escape character will represent a backslash character."
   ]
  },
  {
   "cell_type": "markdown",
   "id": "1c467c56",
   "metadata": {},
   "source": [
    "4. The string \"Howl's Moving Castle\" is a correct value. Why isn't the single quote character in the word Howl's not escaped a problem?"
   ]
  },
  {
   "cell_type": "markdown",
   "id": "5c00d12f",
   "metadata": {},
   "source": [
    "Ans: The single quote in Howl's is fine because you’ve used double quotes to mark the beginning and end of the string."
   ]
  },
  {
   "cell_type": "markdown",
   "id": "e328e57d",
   "metadata": {},
   "source": [
    "5. How do you write a string of newlines if you don't want to use the n character?"
   ]
  },
  {
   "cell_type": "code",
   "execution_count": 1,
   "id": "63f859cd",
   "metadata": {},
   "outputs": [
    {
     "name": "stdout",
     "output_type": "stream",
     "text": [
      "Python basic Assignment\n",
      "Data Science Course\n"
     ]
    }
   ],
   "source": [
    "# Multiline strings allow you to use newlines in strings without the \\n escape character.\n",
    "# Example:\n",
    "a = '''Python basic Assignment\n",
    "Data Science Course'''\n",
    "print(a)"
   ]
  },
  {
   "cell_type": "code",
   "execution_count": 7,
   "id": "bfef20ef",
   "metadata": {},
   "outputs": [
    {
     "data": {
      "text/plain": [
       "\"6. What are the values of the given expressions?\\n'Hello, world!'[1] --> 'e'\\n'Hello, world!'[0:5] --> 'Hello'\\n'Hello, world!'[:5]   --> 'Hello'\\n'Hello, world!'[3:]   --> 'lo, world!'\\n\""
      ]
     },
     "execution_count": 7,
     "metadata": {},
     "output_type": "execute_result"
    }
   ],
   "source": [
    "'''6. What are the values of the given expressions?\n",
    "'Hello, world!'[1] --> 'e'\n",
    "'Hello, world!'[0:5] --> 'Hello'\n",
    "'Hello, world!'[:5]   --> 'Hello'\n",
    "'Hello, world!'[3:]   --> 'lo, world!'\n",
    "'''"
   ]
  },
  {
   "cell_type": "code",
   "execution_count": 11,
   "id": "84b27ffe",
   "metadata": {},
   "outputs": [
    {
     "data": {
      "text/plain": [
       "\"7. What are the values of the following expressions?\\n'Hello'.upper()           --> 'HELLO'\\n'Hello'.upper().isupper()  --> True\\n'Hello'.upper().lower()     --> 'hello'\\n\""
      ]
     },
     "execution_count": 11,
     "metadata": {},
     "output_type": "execute_result"
    }
   ],
   "source": [
    "'''7. What are the values of the following expressions?\n",
    "'Hello'.upper()           --> 'HELLO'\n",
    "'Hello'.upper().isupper()  --> True\n",
    "'Hello'.upper().lower()     --> 'hello'\n",
    "'''"
   ]
  },
  {
   "cell_type": "code",
   "execution_count": 14,
   "id": "0bf167e2",
   "metadata": {},
   "outputs": [
    {
     "data": {
      "text/plain": [
       "\"8. What are the values of the following expressions?\\n'Remember, remember, the fifth of July.'.split() --> ['Remember,', 'remember,', 'the', 'fifth', 'of', 'July.']\\n'-'.join('There can only one.'.split())           --> 'There-can-only-one.'\\n\""
      ]
     },
     "execution_count": 14,
     "metadata": {},
     "output_type": "execute_result"
    }
   ],
   "source": [
    "'''8. What are the values of the following expressions?\n",
    "'Remember, remember, the fifth of July.'.split() --> ['Remember,', 'remember,', 'the', 'fifth', 'of', 'July.']\n",
    "'-'.join('There can only one.'.split())           --> 'There-can-only-one.'\n",
    "'''"
   ]
  },
  {
   "cell_type": "markdown",
   "id": "d74aed95",
   "metadata": {},
   "source": [
    "9. What are the methods for right-justifying, left-justifying, and centering a string?\n",
    "\n",
    "Ans: The rjust(), ljust(), and center() string methods, respectively"
   ]
  },
  {
   "cell_type": "markdown",
   "id": "c6662d2e",
   "metadata": {},
   "source": [
    "10. What is the best way to remove whitespace characters from the start or end?\n",
    "\n",
    "Ans:The lstrip() and rstrip() methods remove whitespace from the left and right ends of a string, respectively. "
   ]
  },
  {
   "cell_type": "code",
   "execution_count": null,
   "id": "b146241c",
   "metadata": {},
   "outputs": [],
   "source": []
  }
 ],
 "metadata": {
  "kernelspec": {
   "display_name": "Python 3",
   "language": "python",
   "name": "python3"
  },
  "language_info": {
   "codemirror_mode": {
    "name": "ipython",
    "version": 3
   },
   "file_extension": ".py",
   "mimetype": "text/x-python",
   "name": "python",
   "nbconvert_exporter": "python",
   "pygments_lexer": "ipython3",
   "version": "3.8.8"
  }
 },
 "nbformat": 4,
 "nbformat_minor": 5
}

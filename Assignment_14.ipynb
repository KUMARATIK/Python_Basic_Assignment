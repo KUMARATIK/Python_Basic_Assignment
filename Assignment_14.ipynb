{
 "cells": [
  {
   "cell_type": "markdown",
   "id": "92f16a02",
   "metadata": {},
   "source": [
    "1. What does RGBA stand for?"
   ]
  },
  {
   "cell_type": "markdown",
   "id": "12b2c27c",
   "metadata": {},
   "source": [
    "Ans:-  An RGBA value is a group of numbers that specify the amount of Red, Green, Blue and Alpha (or transparency)in a color."
   ]
  },
  {
   "cell_type": "markdown",
   "id": "4b4f1f5c",
   "metadata": {},
   "source": [
    "2. From the Pillow module, how do you get the RGBA value of any images?\n",
    "\n",
    "Ans:- ImageColor.getcolor() gives rgba value of any image. \n",
    "    \n",
    "3. What is a box tuple, and how does it work?\n",
    "\n",
    "Ans:-Box tuple is container of tuple of four integers where x-coordinate is represented  by left edge, y-coordinate by top edge width and height respectively."
   ]
  },
  {
   "cell_type": "markdown",
   "id": "d8b8ef6b",
   "metadata": {},
   "source": [
    "4. Use your image and load in notebook then, How can you find out the width and height of an Image object?"
   ]
  },
  {
   "cell_type": "code",
   "execution_count": null,
   "id": "85f9eba6",
   "metadata": {},
   "outputs": [],
   "source": [
    "from PIL import Image\n",
    "\n",
    "pic = PIL.Image.open('trial.jpg')\n",
    "width = pic.width\n",
    "height = pic.height\n",
    "print(\"width and height of image is {}, {} respective;y\".format(width,height))"
   ]
  },
  {
   "cell_type": "markdown",
   "id": "92288d68",
   "metadata": {},
   "source": [
    "5. What method would you call to get Image object for a 100×100 image, excluding the lower-left quarter of it?\n",
    "\n",
    "Ans:- imageobj.crop((0,50,50,50))\n",
    "\n",
    "6. After making changes to an Image object, how could you save it as an image file?\n",
    "\n",
    "Ans:- imageObj.save('new_name.jpg')\n",
    "    \n",
    "7. What module contains Pillow’s shape-drawing code?\n",
    "\n",
    "Ans:- ImageDraw module\n",
    "    \n",
    "8. Image objects do not have drawing methods. What kind of object does? How do you get this kind of object?\n",
    "\n",
    "Ans:- They have shape drawing methods like line(), point(), rectangle(). we can call them by using ImageDraw.Draw() function."
   ]
  }
 ],
 "metadata": {
  "kernelspec": {
   "display_name": "Python 3",
   "language": "python",
   "name": "python3"
  },
  "language_info": {
   "codemirror_mode": {
    "name": "ipython",
    "version": 3
   },
   "file_extension": ".py",
   "mimetype": "text/x-python",
   "name": "python",
   "nbconvert_exporter": "python",
   "pygments_lexer": "ipython3",
   "version": "3.8.8"
  }
 },
 "nbformat": 4,
 "nbformat_minor": 5
}

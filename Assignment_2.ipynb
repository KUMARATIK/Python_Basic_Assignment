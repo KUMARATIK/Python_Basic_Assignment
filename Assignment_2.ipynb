{
 "cells": [
  {
   "cell_type": "markdown",
   "id": "82d7a160",
   "metadata": {},
   "source": [
    "1.What are the two values of the Boolean data type? How do you write them?"
   ]
  },
  {
   "cell_type": "raw",
   "id": "29f70b32",
   "metadata": {},
   "source": [
    "The two values of the boolean data type\n",
    "True\n",
    "False"
   ]
  },
  {
   "cell_type": "markdown",
   "id": "569c6c2c",
   "metadata": {},
   "source": [
    "2. What are the three different types of Boolean operators?"
   ]
  },
  {
   "cell_type": "raw",
   "id": "74dafaa8",
   "metadata": {},
   "source": [
    "The three different types of boolean operators are AND, OR and NOT."
   ]
  },
  {
   "cell_type": "markdown",
   "id": "b1d7eed8",
   "metadata": {},
   "source": [
    "3. Make a list of each Boolean operator's truth tables (i.e. every possible combination of Boolean values for the operator and what it evaluate )."
   ]
  },
  {
   "cell_type": "raw",
   "id": "ef4e4afc",
   "metadata": {},
   "source": [
    "AND operator's truth tables\n",
    "input1     input2     result\n",
    "  0          0          0\n",
    "  0          1          0\n",
    "  1          0          0\n",
    "  1          1          1"
   ]
  },
  {
   "cell_type": "raw",
   "id": "df06836e",
   "metadata": {},
   "source": [
    "OR operator's truth tables\n",
    "input1     input2     result\n",
    "  0          0          0\n",
    "  0          1          1\n",
    "  1          0          1\n",
    "  1          1          1"
   ]
  },
  {
   "cell_type": "raw",
   "id": "50ef6b65",
   "metadata": {},
   "source": [
    "NOT operator's truth tables\n",
    "input    ouput\n",
    "  0          1\n",
    "  1          0"
   ]
  },
  {
   "cell_type": "markdown",
   "id": "41a45345",
   "metadata": {},
   "source": [
    "4. What are the values of the following expressions?"
   ]
  },
  {
   "cell_type": "code",
   "execution_count": 10,
   "id": "9a7ecdb4",
   "metadata": {},
   "outputs": [
    {
     "data": {
      "text/plain": [
       "False"
      ]
     },
     "execution_count": 10,
     "metadata": {},
     "output_type": "execute_result"
    }
   ],
   "source": [
    "(5 > 4) and (3 == 5)"
   ]
  },
  {
   "cell_type": "code",
   "execution_count": 11,
   "id": "6fd68db6",
   "metadata": {},
   "outputs": [
    {
     "data": {
      "text/plain": [
       "False"
      ]
     },
     "execution_count": 11,
     "metadata": {},
     "output_type": "execute_result"
    }
   ],
   "source": [
    "not (5 > 4)"
   ]
  },
  {
   "cell_type": "code",
   "execution_count": 12,
   "id": "34ea63fe",
   "metadata": {},
   "outputs": [
    {
     "data": {
      "text/plain": [
       "True"
      ]
     },
     "execution_count": 12,
     "metadata": {},
     "output_type": "execute_result"
    }
   ],
   "source": [
    "(5 > 4) or (3 == 5)"
   ]
  },
  {
   "cell_type": "code",
   "execution_count": 13,
   "id": "a29841b5",
   "metadata": {},
   "outputs": [
    {
     "data": {
      "text/plain": [
       "False"
      ]
     },
     "execution_count": 13,
     "metadata": {},
     "output_type": "execute_result"
    }
   ],
   "source": [
    "not ((5 > 4) or (3 == 5))"
   ]
  },
  {
   "cell_type": "code",
   "execution_count": 14,
   "id": "eb257c8d",
   "metadata": {},
   "outputs": [
    {
     "data": {
      "text/plain": [
       "False"
      ]
     },
     "execution_count": 14,
     "metadata": {},
     "output_type": "execute_result"
    }
   ],
   "source": [
    "(True and True) and (True == False)"
   ]
  },
  {
   "cell_type": "code",
   "execution_count": 15,
   "id": "633f9a52",
   "metadata": {},
   "outputs": [
    {
     "data": {
      "text/plain": [
       "True"
      ]
     },
     "execution_count": 15,
     "metadata": {},
     "output_type": "execute_result"
    }
   ],
   "source": [
    "(not False) or (not True)"
   ]
  },
  {
   "cell_type": "markdown",
   "id": "8545ffa6",
   "metadata": {},
   "source": [
    "5. What are the six comparison operators?"
   ]
  },
  {
   "cell_type": "raw",
   "id": "bad81fac",
   "metadata": {},
   "source": [
    "Operator      Name\n",
    "  ==          Equal\n",
    "  !=          Not equal\n",
    "   >          Greater than\n",
    "   <          Less than\n",
    "  >=          Greater than or equal to\n",
    "  <=          Less than or equal to"
   ]
  },
  {
   "cell_type": "markdown",
   "id": "0ee4ac22",
   "metadata": {},
   "source": [
    "6. How do you tell the difference between the equal to and assignment operators?Describe a condition and when you would use one."
   ]
  },
  {
   "cell_type": "raw",
   "id": "befa69d7",
   "metadata": {},
   "source": [
    "The equal to operator is == and it is used to equate two values. whereas assignment operator is = and it is used to assign any values to a variable.\n",
    "\n",
    "x==y equal to operator\n",
    "x=25 assignment operator"
   ]
  },
  {
   "cell_type": "markdown",
   "id": "d64a2947",
   "metadata": {},
   "source": [
    "7. Identify the three blocks in this code:"
   ]
  },
  {
   "cell_type": "code",
   "execution_count": 23,
   "id": "29894faf",
   "metadata": {},
   "outputs": [
    {
     "name": "stdout",
     "output_type": "stream",
     "text": [
      "ham\n",
      "spam\n",
      "spam\n"
     ]
    }
   ],
   "source": [
    "spam = 0\n",
    "if spam == 10:\n",
    "    print('eggs')\n",
    "if spam > 5:\n",
    "    print('bacon')\n",
    "else:\n",
    "    print('ham')\n",
    "print('spam')\n",
    "print('spam')"
   ]
  },
  {
   "cell_type": "raw",
   "id": "94d09d06",
   "metadata": {},
   "source": [
    "To execute if statement after writing if condition there will be one tab space to print the next statement."
   ]
  },
  {
   "cell_type": "markdown",
   "id": "ddda671e",
   "metadata": {},
   "source": [
    "8. Write code that prints Hello if 1 is stored in spam, prints Howdy if 2 is stored in spam, and prints Greetings! if anything else is stored in spam."
   ]
  },
  {
   "cell_type": "code",
   "execution_count": 41,
   "id": "ab72e305",
   "metadata": {},
   "outputs": [
    {
     "name": "stdout",
     "output_type": "stream",
     "text": [
      "Enter any number :2\n",
      "Howdy\n"
     ]
    }
   ],
   "source": [
    "spam = int(input(\"Enter any number :\", ))\n",
    "if spam == 1:\n",
    "    print('Hello')\n",
    "elif spam == 2:\n",
    "    print('Howdy')\n",
    "else:\n",
    "    print('Greetings')"
   ]
  },
  {
   "cell_type": "markdown",
   "id": "500180eb",
   "metadata": {},
   "source": [
    "9.If your programme is stuck in an endless loop, what keys you’ll press?"
   ]
  },
  {
   "cell_type": "raw",
   "id": "f2f095c0",
   "metadata": {},
   "source": [
    "ctrl+c is predded if programme is stuck in an endless loop"
   ]
  },
  {
   "cell_type": "markdown",
   "id": "2fbec2d8",
   "metadata": {},
   "source": [
    "10. How can you tell the difference between break and continue?"
   ]
  },
  {
   "cell_type": "raw",
   "id": "5643294e",
   "metadata": {},
   "source": [
    "The break statement can stop the loop even if the while condition is true.\n",
    "The continue statement can stop the current iteration, and continue with the next."
   ]
  },
  {
   "cell_type": "markdown",
   "id": "860af26f",
   "metadata": {},
   "source": [
    "11. In a for loop, what is the difference between range(10), range(0, 10), and range(0, 10, 1)?"
   ]
  },
  {
   "cell_type": "raw",
   "id": "dc3b39b1",
   "metadata": {},
   "source": [
    "range(10) it means values from 0 to 9 not 10. range by default take 0 as it starting position.\n",
    "range(0,10) here values are from 0 to 9 but in this case starting point is defined.\n",
    "range(0,10,1) here values are from 0 to 9 but in this case starting point is defined as well as jump is also defined. "
   ]
  },
  {
   "cell_type": "markdown",
   "id": "801f4a65",
   "metadata": {},
   "source": [
    "12. Write a short program that prints the numbers 1 to 10 using a for loop. Then write an equivalent program that prints the numbers 1 to 10 using a while loop."
   ]
  },
  {
   "cell_type": "code",
   "execution_count": 44,
   "id": "4adaf318",
   "metadata": {},
   "outputs": [
    {
     "name": "stdout",
     "output_type": "stream",
     "text": [
      "1\n",
      "2\n",
      "3\n",
      "4\n",
      "5\n",
      "6\n",
      "7\n",
      "8\n",
      "9\n",
      "10\n"
     ]
    }
   ],
   "source": [
    "for x in range(1,11):\n",
    "    print(x)"
   ]
  },
  {
   "cell_type": "code",
   "execution_count": 48,
   "id": "23d23c02",
   "metadata": {},
   "outputs": [
    {
     "name": "stdout",
     "output_type": "stream",
     "text": [
      "1\n",
      "2\n",
      "3\n",
      "4\n",
      "5\n",
      "6\n",
      "7\n",
      "8\n",
      "9\n",
      "10\n"
     ]
    }
   ],
   "source": [
    "i = 1\n",
    "while i < 11:\n",
    "    print(i)\n",
    "    i += 1"
   ]
  },
  {
   "cell_type": "markdown",
   "id": "fe9ce0e1",
   "metadata": {},
   "source": [
    "13. If you had a function named bacon() inside a module named spam, how would you call it after importing spam?"
   ]
  },
  {
   "cell_type": "raw",
   "id": "59125ce2",
   "metadata": {},
   "source": [
    "spam.bacon()"
   ]
  },
  {
   "cell_type": "code",
   "execution_count": null,
   "id": "f4f06099",
   "metadata": {},
   "outputs": [],
   "source": []
  }
 ],
 "metadata": {
  "kernelspec": {
   "display_name": "Python 3",
   "language": "python",
   "name": "python3"
  },
  "language_info": {
   "codemirror_mode": {
    "name": "ipython",
    "version": 3
   },
   "file_extension": ".py",
   "mimetype": "text/x-python",
   "name": "python",
   "nbconvert_exporter": "python",
   "pygments_lexer": "ipython3",
   "version": "3.8.8"
  }
 },
 "nbformat": 4,
 "nbformat_minor": 5
}
